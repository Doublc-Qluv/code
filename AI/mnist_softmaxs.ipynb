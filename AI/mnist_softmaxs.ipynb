{
 "cells": [
  {
   "cell_type": "code",
   "execution_count": 2,
   "metadata": {},
   "outputs": [
    {
     "name": "stdout",
     "output_type": "stream",
     "text": [
      "Extracting MNIST_data/train-images-idx3-ubyte.gz\n",
      "Extracting MNIST_data/train-labels-idx1-ubyte.gz\n",
      "Extracting MNIST_data/t10k-images-idx3-ubyte.gz\n",
      "Extracting MNIST_data/t10k-labels-idx1-ubyte.gz\n"
     ]
    }
   ],
   "source": [
    "import tensorflow as tf\n",
    "import tensorflow.examples.tutorials.mnist.input_data as input_data\n",
    "mnist = input_data.read_data_sets(\"MNIST_data/\", one_hot=True)"
   ]
  },
  {
   "cell_type": "code",
   "execution_count": 3,
   "metadata": {},
   "outputs": [],
   "source": [
    "x = tf.placeholder(tf.float32,[None,784], name=\"X\")\n",
    "y = tf.placeholder(tf.float32,[None,10], name=\"Y\")"
   ]
  },
  {
   "cell_type": "code",
   "execution_count": 4,
   "metadata": {},
   "outputs": [],
   "source": [
    "H1_NN = 256\n",
    "H2_NN = 64\n",
    "# 输入层-隐藏层1\n",
    "W1 = tf.Variable(tf.truncated_normal([784,H1_NN],stddev=0.1))\n",
    "b1 = tf.Variable(tf.zeros([H1_NN]))\n",
    "\n",
    "# 隐藏层1-隐藏层2\n",
    "W2 = tf.Variable(tf.truncated_normal([H1_NN,H2_NN],stddev=0.1))\n",
    "b2 = tf.Variable(tf.zeros([H2_NN]))\n",
    "\n",
    "# 隐藏层2-输出层\n",
    "W3 = tf.Variable(tf.truncated_normal([H2_NN,10],stddev=0.1))\n",
    "b3 = tf.Variable(tf.zeros([10]))\n",
    "\n",
    "# 隐藏层1结果\n",
    "Y1 = tf.nn.relu(tf.matmul(x, W1) + b1)\n",
    "\n",
    "# 隐藏层2结果\n",
    "Y2 = tf.nn.relu(tf.matmul(Y1, W2) + b2)\n",
    "\n",
    "# 输出层结果\n",
    "forward = tf.matmul(Y2, W3) + b3\n",
    "pred = tf.nn.softmax(forward)"
   ]
  },
  {
   "cell_type": "code",
   "execution_count": 5,
   "metadata": {},
   "outputs": [
    {
     "name": "stdout",
     "output_type": "stream",
     "text": [
      "WARNING:tensorflow:From <ipython-input-5-ab4e8b9a2449>:2: softmax_cross_entropy_with_logits (from tensorflow.python.ops.nn_ops) is deprecated and will be removed in a future version.\n",
      "Instructions for updating:\n",
      "\n",
      "Future major versions of TensorFlow will allow gradients to flow\n",
      "into the labels input on backprop by default.\n",
      "\n",
      "See `tf.nn.softmax_cross_entropy_with_logits_v2`.\n",
      "\n"
     ]
    }
   ],
   "source": [
    "loss_function = tf.reduce_mean(\n",
    "    tf.nn.softmax_cross_entropy_with_logits(logits=forward,labels=y))"
   ]
  },
  {
   "cell_type": "code",
   "execution_count": 6,
   "metadata": {},
   "outputs": [],
   "source": [
    "train_epochs = 50\n",
    "learning_rate = 0.01\n",
    "display_step = 1 # 粒度\n",
    "batch_size = 50\n",
    "total_batch = int(mnist.train.num_examples/batch_size)#一轮的训练有多少批次\n"
   ]
  },
  {
   "cell_type": "code",
   "execution_count": 7,
   "metadata": {},
   "outputs": [],
   "source": [
    "# 优化器\n",
    "optimizer = tf.train.AdamOptimizer(learning_rate).minimize(loss_function)"
   ]
  },
  {
   "cell_type": "code",
   "execution_count": 8,
   "metadata": {},
   "outputs": [],
   "source": [
    "correct_prediction = tf.equal(tf.argmax(y,1),tf.argmax(pred,1))\n",
    "accuracy = tf.reduce_mean(tf.cast(correct_prediction, tf.float32))"
   ]
  },
  {
   "cell_type": "code",
   "execution_count": 9,
   "metadata": {},
   "outputs": [
    {
     "name": "stdout",
     "output_type": "stream",
     "text": [
      "Train Epoch: 01 Loss= 0.139812201 Accuracy= 0.9620\n",
      "Train Epoch: 02 Loss= 0.145159811 Accuracy= 0.9660\n",
      "Train Epoch: 03 Loss= 0.145481005 Accuracy= 0.9630\n",
      "Train Epoch: 04 Loss= 0.138144314 Accuracy= 0.9642\n",
      "Train Epoch: 05 Loss= 0.144748539 Accuracy= 0.9680\n",
      "Train Epoch: 06 Loss= 0.191539988 Accuracy= 0.9570\n",
      "Train Epoch: 07 Loss= 0.159607977 Accuracy= 0.9708\n",
      "Train Epoch: 08 Loss= 0.232003465 Accuracy= 0.9664\n",
      "Train Epoch: 09 Loss= 0.160251990 Accuracy= 0.9696\n",
      "Train Epoch: 10 Loss= 0.203345880 Accuracy= 0.9692\n",
      "Train Epoch: 11 Loss= 0.161689520 Accuracy= 0.9680\n",
      "Train Epoch: 12 Loss= 0.195388302 Accuracy= 0.9702\n",
      "Train Epoch: 13 Loss= 0.168783113 Accuracy= 0.9720\n",
      "Train Epoch: 14 Loss= 0.222943425 Accuracy= 0.9696\n",
      "Train Epoch: 15 Loss= 0.186771929 Accuracy= 0.9720\n",
      "Train Epoch: 16 Loss= 0.200621143 Accuracy= 0.9688\n",
      "Train Epoch: 17 Loss= 0.202495173 Accuracy= 0.9724\n",
      "Train Epoch: 18 Loss= 0.234396294 Accuracy= 0.9702\n",
      "Train Epoch: 19 Loss= 0.268668711 Accuracy= 0.9650\n",
      "Train Epoch: 20 Loss= 0.231385544 Accuracy= 0.9700\n",
      "Train Epoch: 21 Loss= 0.197819650 Accuracy= 0.9676\n",
      "Train Epoch: 22 Loss= 0.223041803 Accuracy= 0.9704\n",
      "Train Epoch: 23 Loss= 0.206288621 Accuracy= 0.9692\n",
      "Train Epoch: 24 Loss= 0.227979854 Accuracy= 0.9718\n",
      "Train Epoch: 25 Loss= 0.251187205 Accuracy= 0.9722\n",
      "Train Epoch: 26 Loss= 0.193409905 Accuracy= 0.9716\n",
      "Train Epoch: 27 Loss= 0.239026666 Accuracy= 0.9744\n",
      "Train Epoch: 28 Loss= 0.315455139 Accuracy= 0.9654\n",
      "Train Epoch: 29 Loss= 0.260318011 Accuracy= 0.9688\n",
      "Train Epoch: 30 Loss= 0.315127820 Accuracy= 0.9740\n",
      "Train Epoch: 31 Loss= 0.315467298 Accuracy= 0.9736\n",
      "Train Epoch: 32 Loss= 0.258879662 Accuracy= 0.9726\n",
      "Train Epoch: 33 Loss= 0.236114040 Accuracy= 0.9712\n",
      "Train Epoch: 34 Loss= 0.307276905 Accuracy= 0.9706\n",
      "Train Epoch: 35 Loss= 0.395457268 Accuracy= 0.9688\n",
      "Train Epoch: 36 Loss= 0.245470122 Accuracy= 0.9678\n",
      "Train Epoch: 37 Loss= 0.260632098 Accuracy= 0.9718\n",
      "Train Epoch: 38 Loss= 0.360595047 Accuracy= 0.9688\n",
      "Train Epoch: 39 Loss= 0.278005123 Accuracy= 0.9686\n",
      "Train Epoch: 40 Loss= 0.304621756 Accuracy= 0.9692\n",
      "Train Epoch: 41 Loss= 0.311875105 Accuracy= 0.9682\n",
      "Train Epoch: 42 Loss= 0.380246133 Accuracy= 0.9692\n",
      "Train Epoch: 43 Loss= 0.348191768 Accuracy= 0.9714\n",
      "Train Epoch: 44 Loss= 0.356283784 Accuracy= 0.9748\n",
      "Train Epoch: 45 Loss= 0.477529794 Accuracy= 0.9638\n",
      "Train Epoch: 46 Loss= 0.419689149 Accuracy= 0.9704\n",
      "Train Epoch: 47 Loss= 0.326339841 Accuracy= 0.9668\n",
      "Train Epoch: 48 Loss= 0.308116525 Accuracy= 0.9718\n",
      "Train Epoch: 49 Loss= 0.355510056 Accuracy= 0.9724\n",
      "Train Epoch: 50 Loss= 0.373081446 Accuracy= 0.9664\n",
      "Train Finished takes: 269.55\n"
     ]
    }
   ],
   "source": [
    "# train first\n",
    "from time import time\n",
    "startTime = time()\n",
    "\n",
    "sess = tf.Session()\n",
    "sess.run(tf.global_variables_initializer())\n",
    "\n",
    "for epoch in range(train_epochs):\n",
    "    for batch in range(total_batch):\n",
    "        xs,ys = mnist.train.next_batch(batch_size)\n",
    "        sess.run(optimizer, feed_dict={x:xs,y:ys})\n",
    "    \n",
    "    loss,acc = sess.run([loss_function,accuracy],\n",
    "                       feed_dict={x:mnist.validation.images,\n",
    "                                 y:mnist.validation.labels})\n",
    "    \n",
    "\n",
    "    if (epoch+1) % display_step == 0:\n",
    "        print(\"Train Epoch:\",\"%02d\"%(epoch+1),\n",
    "             \"Loss=\",\"{:.9f}\".format(loss),\"Accuracy=\",\"{:.4f}\".format(acc))\n",
    "duration = time()-startTime\n",
    "print(\"Train Finished takes:\",\"{:.2f}\".format(duration))"
   ]
  },
  {
   "cell_type": "code",
   "execution_count": 14,
   "metadata": {},
   "outputs": [
    {
     "name": "stdout",
     "output_type": "stream",
     "text": [
      "Test Accuracy:  0.9682\n"
     ]
    }
   ],
   "source": [
    "# 模型评估\n",
    "accu_test = sess.run(\n",
    "    accuracy,feed_dict={x:mnist.test.images, y:mnist.test.labels})\n",
    "print(\"Test Accuracy: \",accu_test)"
   ]
  },
  {
   "cell_type": "code",
   "execution_count": null,
   "metadata": {},
   "outputs": [],
   "source": []
  }
 ],
 "metadata": {
  "kernelspec": {
   "display_name": "Python 3",
   "language": "python",
   "name": "python3"
  },
  "language_info": {
   "codemirror_mode": {
    "name": "ipython",
    "version": 3
   },
   "file_extension": ".py",
   "mimetype": "text/x-python",
   "name": "python",
   "nbconvert_exporter": "python",
   "pygments_lexer": "ipython3",
   "version": "3.6.8"
  }
 },
 "nbformat": 4,
 "nbformat_minor": 2
}
