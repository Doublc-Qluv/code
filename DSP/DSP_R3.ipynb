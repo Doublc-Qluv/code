{
 "cells": [
  {
   "cell_type": "markdown",
   "metadata": {},
   "source": [
    "# 实验三：用FFT对信号作频谱分析\n",
    "## 1. 实验目的\n",
    "&emsp;&emsp;学习用FFT对连续信号和时域离散信号进行谱分析的方法，了解可能出现的分析误差及其原因，以便正确应用FFT。\n",
    "## 2.实验原理\n",
    "&emsp;&emsp;用FFT对信号作频谱分析是学习数字信号处理的重要内容。经常需要进行谱分析的信号是模拟信号和时域离散信号。对信号进行谱分析的重要问题是频谱分辨率D和分析误差。频谱分辨率直接和FFT的变换区间N有关，因为FFT能够实现的频率分辨率是$2\\pi /N$，因此要求$2\\pi /N\\le D$。可以根据此式选择FFT的变换区间N。误差主要来自于用FFT作频谱分析时，得到的是离散谱，而信号（周期信号除外）是连续谱，只有当N较大时离散谱的包络才能逼近于连续谱，因此N要适当选择大一些。\n",
    "&emsp;&emsp;周期信号的频谱是离散谱，只有用整数倍周期的长度作FFT，得到的离散谱才能代表周期信号的频谱。如果不知道信号周期，可以尽量选择信号的观察时间长一些。\n",
    "&emsp;&emsp;对模拟信号进行谱分析时，首先要按照采样定理将其变成时域离散信号。如果是模拟周期信号，也应该选取整数倍周期的长度，经过采样后形成周期序列，按照周期序列的谱分析进行。\n"
   ]
  },
  {
   "cell_type": "markdown",
   "metadata": {},
   "source": [
    "## 3.实验步骤及内容\n",
    "- （1）对以下序列进行谱分析。\n",
    "$$\n",
    "x_1(n)=R_4(n)\n",
    "$$\n",
    "$$\n",
    "x_2(n)=\n",
    "\\left\\{\\begin{array} \n",
    "\t\tn+1, & 0\\le n \\le3\\\\ \n",
    "\t\t8-n, & 4\\le n \\le7\\\\\n",
    "      0 ,  & else\n",
    "\t\\end{array}\\right.\n",
    "$$\n",
    "$$\n",
    "x_3(n)=\n",
    "\\left\\{\\begin{array} \n",
    "\t\t4-n, & 0\\le n \\le3\\\\ \n",
    "\t\tn-3, & 4\\le n \\le7\\\\\n",
    "      0 ,  & else\n",
    "\t\\end{array}\\right.\n",
    "$$\n",
    "&emsp;&emsp;选择FFT的变换区间N为8和16 两种情况进行频谱分析。分别打印其幅频特性曲线。 并进行对比、分析和讨论。\n",
    "- （2）对以下周期序列进行谱分析。\n",
    "$$\n",
    "$$\\begin{eqnarray}\n",
    "\t\tx_4(n)&=&cos\\frac{\\pi}{4}n\\\\\n",
    "\t\tx_5(n)&=&cos(\\pi n/4)+cos(\\pi n/8)\n",
    "\t\\end{eqnarray}$$\n",
    "$$\n",
    "&emsp;&emsp;选择FFT的变换区间N为8和16 两种情况分别对以上序列进行频谱分析。分别打印其幅频特性曲线。并进行对比、分析和讨论。\n",
    "- （3）对模拟周期信号进行谱分析\n",
    "$$\n",
    "x_6(t)=cos8\\pi t+cos16\\pi t+cos20\\pi t\\\\\n",
    "$$\n",
    "&emsp;&emsp;选择采样频率$F_s=64Hz$，变换区间$N=16,32,64$ 三种情况进行谱分析。分别打印其幅频特性，并进行分析和讨论。"
   ]
  },
  {
   "cell_type": "markdown",
   "metadata": {},
   "source": [
    "## 4.思考题\n",
    "- （1）对于周期序列，如果周期不知道，如何用FFT进行谱分析？\n",
    "- （2）如何选择FFT的变换区间？（包括非周期信号和周期信号）\n",
    "- （3）当N=8时，$x_2(n)$和$x_3(n)$的幅频特性会相同吗？为什么？N=16 呢？\n",
    "\n",
    "$x_4(n)=cos\\frac{\\pi}{4}n$的周期为8，所以N=8和N=16均是其周期的整数倍，得到正确的单一频率正弦波的频谱，仅在$0.25\\pi$处有1根单一谱线。\n",
    "$x_5=cos(\\pi n/4)+cos(\\pi n/8)$的周期为16，所以N=8不是其周期的整数倍，得到的频谱不正确.。N=16是其一个周期，得到正确的频谱，仅在$0.25\\pi$和$0.125\\pi$处有2根单一谱线,\n"
   ]
  },
  {
   "cell_type": "markdown",
   "metadata": {},
   "source": [
    "## 5.实验源代码"
   ]
  }
 ],
 "metadata": {
  "kernelspec": {
   "display_name": "Python 3",
   "language": "python",
   "name": "python3"
  },
  "language_info": {
   "codemirror_mode": {
    "name": "ipython",
    "version": 3
   },
   "file_extension": ".py",
   "mimetype": "text/x-python",
   "name": "python",
   "nbconvert_exporter": "python",
   "pygments_lexer": "ipython3",
   "version": "3.6.4"
  }
 },
 "nbformat": 4,
 "nbformat_minor": 2
}
